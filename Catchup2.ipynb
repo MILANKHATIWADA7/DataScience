{
 "cells": [
  {
   "cell_type": "code",
   "execution_count": 2,
   "id": "93cdc9a0",
   "metadata": {},
   "outputs": [
    {
     "name": "stdout",
     "output_type": "stream",
     "text": [
      "Entera positive number:22\n",
      "<100\n"
     ]
    }
   ],
   "source": [
    "num = int(input(\"Entera positive number:\"))\n",
    "if num> 0:\n",
    "    if num > 100:\n",
    "        print(\">100\")\n",
    "    elif num == 100:\n",
    "        print(\"=100\")\n",
    "    else:\n",
    "        print(\"<100\")\n",
    "else:\n",
    "    print(\"-ve number no expected\")"
   ]
  },
  {
   "cell_type": "code",
   "execution_count": 4,
   "id": "23328a26",
   "metadata": {},
   "outputs": [
    {
     "name": "stdout",
     "output_type": "stream",
     "text": [
      "Enter your name:Milan\n",
      "name is Milan\n"
     ]
    }
   ],
   "source": [
    "name = input(\"Enter your name:\")\n",
    "print(f\"name is {name}\")"
   ]
  },
  {
   "cell_type": "code",
   "execution_count": 5,
   "id": "6cf28ad4",
   "metadata": {},
   "outputs": [
    {
     "data": {
      "text/plain": [
       "5"
      ]
     },
     "execution_count": 5,
     "metadata": {},
     "output_type": "execute_result"
    }
   ],
   "source": [
    "a = len(name)\n",
    "a"
   ]
  },
  {
   "cell_type": "code",
   "execution_count": 6,
   "id": "dfed879e",
   "metadata": {},
   "outputs": [],
   "source": [
    "fruits = []"
   ]
  },
  {
   "cell_type": "code",
   "execution_count": 7,
   "id": "bc5d0ed9",
   "metadata": {},
   "outputs": [
    {
     "data": {
      "text/plain": [
       "list"
      ]
     },
     "execution_count": 7,
     "metadata": {},
     "output_type": "execute_result"
    }
   ],
   "source": [
    "type(fruits)"
   ]
  },
  {
   "cell_type": "code",
   "execution_count": 8,
   "id": "ff2ef088",
   "metadata": {},
   "outputs": [],
   "source": [
    "sports = list()"
   ]
  },
  {
   "cell_type": "code",
   "execution_count": 9,
   "id": "a5ab0c76",
   "metadata": {},
   "outputs": [
    {
     "name": "stdout",
     "output_type": "stream",
     "text": [
      "<class 'list'>\n"
     ]
    }
   ],
   "source": [
    "print(type(sports))"
   ]
  },
  {
   "cell_type": "code",
   "execution_count": 10,
   "id": "aaaa2fcd",
   "metadata": {},
   "outputs": [],
   "source": [
    "fruits = ['apple', 'banana', 'peach', 'mango']"
   ]
  },
  {
   "cell_type": "code",
   "execution_count": 11,
   "id": "e5eb68c6",
   "metadata": {},
   "outputs": [
    {
     "data": {
      "text/plain": [
       "'apple'"
      ]
     },
     "execution_count": 11,
     "metadata": {},
     "output_type": "execute_result"
    }
   ],
   "source": [
    "fruits[0]"
   ]
  },
  {
   "cell_type": "code",
   "execution_count": 12,
   "id": "46eadd7e",
   "metadata": {},
   "outputs": [
    {
     "data": {
      "text/plain": [
       "['apple', 'banana', 'peach', 'mango']"
      ]
     },
     "execution_count": 12,
     "metadata": {},
     "output_type": "execute_result"
    }
   ],
   "source": [
    "fruits"
   ]
  },
  {
   "cell_type": "code",
   "execution_count": 13,
   "id": "629b5919",
   "metadata": {},
   "outputs": [
    {
     "data": {
      "text/plain": [
       "'mango'"
      ]
     },
     "execution_count": 13,
     "metadata": {},
     "output_type": "execute_result"
    }
   ],
   "source": [
    "fruits[-1]"
   ]
  },
  {
   "cell_type": "code",
   "execution_count": 14,
   "id": "311068c9",
   "metadata": {},
   "outputs": [],
   "source": [
    "fruits[0] = 'grapes'"
   ]
  },
  {
   "cell_type": "code",
   "execution_count": 15,
   "id": "af6f51d5",
   "metadata": {},
   "outputs": [
    {
     "data": {
      "text/plain": [
       "['grapes', 'banana', 'peach', 'mango']"
      ]
     },
     "execution_count": 15,
     "metadata": {},
     "output_type": "execute_result"
    }
   ],
   "source": [
    "fruits"
   ]
  },
  {
   "cell_type": "code",
   "execution_count": 16,
   "id": "0a479356",
   "metadata": {},
   "outputs": [
    {
     "data": {
      "text/plain": [
       "['grapes', 'banana', 'peach', 'mango', 'apple']"
      ]
     },
     "execution_count": 16,
     "metadata": {},
     "output_type": "execute_result"
    }
   ],
   "source": [
    "fruits.append('apple')\n",
    "fruits"
   ]
  },
  {
   "cell_type": "code",
   "execution_count": 17,
   "id": "8ae839ca",
   "metadata": {},
   "outputs": [
    {
     "data": {
      "text/plain": [
       "['grapes', 'guava', 'banana', 'peach', 'mango', 'apple']"
      ]
     },
     "execution_count": 17,
     "metadata": {},
     "output_type": "execute_result"
    }
   ],
   "source": [
    "fruits.insert(1,'guava')\n",
    "fruits"
   ]
  },
  {
   "cell_type": "code",
   "execution_count": 18,
   "id": "832b0a81",
   "metadata": {},
   "outputs": [
    {
     "data": {
      "text/plain": [
       "['grapes', 'guava', 'banana', 'peach', 'mango']"
      ]
     },
     "execution_count": 18,
     "metadata": {},
     "output_type": "execute_result"
    }
   ],
   "source": [
    "fruits.pop()\n",
    "fruits"
   ]
  },
  {
   "cell_type": "code",
   "execution_count": 19,
   "id": "2aaee586",
   "metadata": {},
   "outputs": [
    {
     "data": {
      "text/plain": [
       "tuple"
      ]
     },
     "execution_count": 19,
     "metadata": {},
     "output_type": "execute_result"
    }
   ],
   "source": [
    "t1 = (22, 33)\n",
    "type(t1)"
   ]
  },
  {
   "cell_type": "code",
   "execution_count": 22,
   "id": "9eb35ce4",
   "metadata": {},
   "outputs": [
    {
     "data": {
      "text/plain": [
       "[22, 33, 44, 100, 55, 66, 77, 88, 99]"
      ]
     },
     "execution_count": 22,
     "metadata": {},
     "output_type": "execute_result"
    }
   ],
   "source": [
    "num = [22, 33, 44  , 100, 55, 66, 77, 88, 99]\n",
    "num"
   ]
  },
  {
   "cell_type": "code",
   "execution_count": 23,
   "id": "c9ec221b",
   "metadata": {},
   "outputs": [
    {
     "data": {
      "text/plain": [
       "[22, 33, 44, 55, 66, 77, 88, 99, 100]"
      ]
     },
     "execution_count": 23,
     "metadata": {},
     "output_type": "execute_result"
    }
   ],
   "source": [
    "num.sort()\n",
    "num"
   ]
  },
  {
   "cell_type": "code",
   "execution_count": 24,
   "id": "7ec48219",
   "metadata": {},
   "outputs": [
    {
     "data": {
      "text/plain": [
       "9"
      ]
     },
     "execution_count": 24,
     "metadata": {},
     "output_type": "execute_result"
    }
   ],
   "source": [
    "len(num)"
   ]
  },
  {
   "cell_type": "code",
   "execution_count": 27,
   "id": "0646b719",
   "metadata": {},
   "outputs": [
    {
     "name": "stdout",
     "output_type": "stream",
     "text": [
      "0\n",
      "1\n",
      "2\n",
      "3\n",
      "4\n",
      "5\n",
      "6\n",
      "7\n",
      "8\n"
     ]
    }
   ],
   "source": [
    "for i in range(len(num)):\n",
    "    print (i)"
   ]
  },
  {
   "cell_type": "code",
   "execution_count": 28,
   "id": "5ecc9c58",
   "metadata": {},
   "outputs": [
    {
     "name": "stdout",
     "output_type": "stream",
     "text": [
      "22 33 44 55 66 77 88 99 100 "
     ]
    }
   ],
   "source": [
    "for i in num:\n",
    "    print(i, end = ' ')"
   ]
  },
  {
   "cell_type": "code",
   "execution_count": 31,
   "id": "dfd5cb5f",
   "metadata": {},
   "outputs": [
    {
     "name": "stdout",
     "output_type": "stream",
     "text": [
      "88 is here\n"
     ]
    }
   ],
   "source": [
    "for i in num:\n",
    "    if i == 88:\n",
    "        print(f\"{i} is here\")"
   ]
  },
  {
   "cell_type": "code",
   "execution_count": 39,
   "id": "9d1c1355",
   "metadata": {},
   "outputs": [
    {
     "name": "stdout",
     "output_type": "stream",
     "text": [
      "Enter the number to check:45\n",
      "45 is not here\n"
     ]
    }
   ],
   "source": [
    "count = 0\n",
    "n= int (input(\"Enter the number to check:\"))\n",
    "for i in num:\n",
    "    if i == n:\n",
    "        count+=1\n",
    "if count == 0:\n",
    "    print(f\"{n} is not here\")\n",
    "else:\n",
    "    print(f\"{n} is here\")\n",
    "       "
   ]
  },
  {
   "cell_type": "code",
   "execution_count": 45,
   "id": "dcfbae2a",
   "metadata": {},
   "outputs": [],
   "source": [
    "def task_handler():\n",
    "    count = 0\n",
    "    n= int (input(\"Enter the number to check:\"))\n",
    "    for i in num:\n",
    "        if i == n:\n",
    "            count+=1\n",
    "    return n, count\n",
    "    "
   ]
  },
  {
   "cell_type": "code",
   "execution_count": 50,
   "id": "096bcf26",
   "metadata": {},
   "outputs": [
    {
     "name": "stdout",
     "output_type": "stream",
     "text": [
      "Enter the number to check:45\n",
      "99 (45, 0)\n",
      "99 is here\n"
     ]
    }
   ],
   "source": [
    "n, res = task_handler()\n",
    "print(n, res)\n",
    "if res == 0:\n",
    "     print(f\"{n} is not here\")\n",
    "else:\n",
    "    print(f\"{n} is here\")"
   ]
  },
  {
   "cell_type": "code",
   "execution_count": 53,
   "id": "d13c574e",
   "metadata": {},
   "outputs": [
    {
     "data": {
      "text/plain": [
       "dict"
      ]
     },
     "execution_count": 53,
     "metadata": {},
     "output_type": "execute_result"
    }
   ],
   "source": [
    "students = {}\n",
    "type(students)"
   ]
  },
  {
   "cell_type": "code",
   "execution_count": 56,
   "id": "b0b759dd",
   "metadata": {},
   "outputs": [],
   "source": [
    "student = {\n",
    "    'name': 'Milan',\n",
    "    'age' : 23,\n",
    "    'address'  : 'kapan',\n",
    "    'mark' : 73\n",
    "}"
   ]
  },
  {
   "cell_type": "code",
   "execution_count": 57,
   "id": "fc9a7d63",
   "metadata": {},
   "outputs": [
    {
     "data": {
      "text/plain": [
       "dict_keys(['name', 'age', 'address', 'mark'])"
      ]
     },
     "execution_count": 57,
     "metadata": {},
     "output_type": "execute_result"
    }
   ],
   "source": [
    "student.keys()"
   ]
  },
  {
   "cell_type": "code",
   "execution_count": 58,
   "id": "594ffae8",
   "metadata": {},
   "outputs": [
    {
     "data": {
      "text/plain": [
       "{'name': 'Milan', 'age': 23, 'address': 'kapan', 'mark': 73}"
      ]
     },
     "execution_count": 58,
     "metadata": {},
     "output_type": "execute_result"
    }
   ],
   "source": [
    "student"
   ]
  },
  {
   "cell_type": "code",
   "execution_count": 60,
   "id": "9140b373",
   "metadata": {},
   "outputs": [
    {
     "data": {
      "text/plain": [
       "dict_items([('name', 'Milan'), ('age', 23), ('address', 'kapan'), ('mark', 73)])"
      ]
     },
     "execution_count": 60,
     "metadata": {},
     "output_type": "execute_result"
    }
   ],
   "source": [
    "student.items()"
   ]
  },
  {
   "cell_type": "code",
   "execution_count": null,
   "id": "576c58f5",
   "metadata": {},
   "outputs": [],
   "source": []
  }
 ],
 "metadata": {
  "kernelspec": {
   "display_name": "Python 3 (ipykernel)",
   "language": "python",
   "name": "python3"
  },
  "language_info": {
   "codemirror_mode": {
    "name": "ipython",
    "version": 3
   },
   "file_extension": ".py",
   "mimetype": "text/x-python",
   "name": "python",
   "nbconvert_exporter": "python",
   "pygments_lexer": "ipython3",
   "version": "3.10.9"
  }
 },
 "nbformat": 4,
 "nbformat_minor": 5
}
