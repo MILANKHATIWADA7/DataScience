{
 "cells": [
  {
   "cell_type": "code",
   "execution_count": 1,
   "id": "b3dd282e",
   "metadata": {},
   "outputs": [],
   "source": [
    "import pandas as pd"
   ]
  },
  {
   "cell_type": "code",
   "execution_count": 2,
   "id": "184d49ae",
   "metadata": {},
   "outputs": [],
   "source": [
    "data = pd.Series([22, 33, 55, 31, 51, 57])"
   ]
  },
  {
   "cell_type": "code",
   "execution_count": 3,
   "id": "837fedbe",
   "metadata": {},
   "outputs": [
    {
     "data": {
      "text/plain": [
       "0    22\n",
       "1    33\n",
       "2    55\n",
       "3    31\n",
       "4    51\n",
       "5    57\n",
       "dtype: int64"
      ]
     },
     "execution_count": 3,
     "metadata": {},
     "output_type": "execute_result"
    }
   ],
   "source": [
    "data"
   ]
  },
  {
   "cell_type": "code",
   "execution_count": 15,
   "id": "0f5e3a75",
   "metadata": {},
   "outputs": [
    {
     "data": {
      "text/plain": [
       "ram      22\n",
       "shyam    33\n",
       "hari     55\n",
       "sita     77\n",
       "dtype: int64"
      ]
     },
     "execution_count": 15,
     "metadata": {},
     "output_type": "execute_result"
    }
   ],
   "source": [
    "data = pd.Series([22, 33, 55, 77], index=['ram', 'shyam','hari', 'sita'])\n",
    "data"
   ]
  },
  {
   "cell_type": "code",
   "execution_count": 6,
   "id": "1af0ac39",
   "metadata": {},
   "outputs": [
    {
     "data": {
      "text/plain": [
       "77"
      ]
     },
     "execution_count": 6,
     "metadata": {},
     "output_type": "execute_result"
    }
   ],
   "source": [
    "data.max()"
   ]
  },
  {
   "cell_type": "code",
   "execution_count": 7,
   "id": "76ddeeb9",
   "metadata": {},
   "outputs": [
    {
     "data": {
      "text/plain": [
       "22"
      ]
     },
     "execution_count": 7,
     "metadata": {},
     "output_type": "execute_result"
    }
   ],
   "source": [
    "data.min()"
   ]
  },
  {
   "cell_type": "code",
   "execution_count": 8,
   "id": "eaeaeee6",
   "metadata": {},
   "outputs": [
    {
     "data": {
      "text/plain": [
       "46.75"
      ]
     },
     "execution_count": 8,
     "metadata": {},
     "output_type": "execute_result"
    }
   ],
   "source": [
    "data.mean()"
   ]
  },
  {
   "cell_type": "code",
   "execution_count": 9,
   "id": "ebc2c6d0",
   "metadata": {},
   "outputs": [
    {
     "data": {
      "text/plain": [
       "24.390913608691797"
      ]
     },
     "execution_count": 9,
     "metadata": {},
     "output_type": "execute_result"
    }
   ],
   "source": [
    "data.std()"
   ]
  },
  {
   "cell_type": "code",
   "execution_count": 10,
   "id": "f49a2e6f",
   "metadata": {},
   "outputs": [
    {
     "data": {
      "text/plain": [
       "22"
      ]
     },
     "execution_count": 10,
     "metadata": {},
     "output_type": "execute_result"
    }
   ],
   "source": [
    "data[0]"
   ]
  },
  {
   "cell_type": "code",
   "execution_count": 11,
   "id": "aa924178",
   "metadata": {},
   "outputs": [
    {
     "data": {
      "text/plain": [
       "22"
      ]
     },
     "execution_count": 11,
     "metadata": {},
     "output_type": "execute_result"
    }
   ],
   "source": [
    "data['ram']"
   ]
  },
  {
   "cell_type": "code",
   "execution_count": 16,
   "id": "e04196a0",
   "metadata": {},
   "outputs": [
    {
     "data": {
      "text/plain": [
       "ram      222\n",
       "shyam     33\n",
       "hari     555\n",
       "sita      77\n",
       "dtype: int64"
      ]
     },
     "execution_count": 16,
     "metadata": {},
     "output_type": "execute_result"
    }
   ],
   "source": [
    "data = pd.Series([222, 33, 555, 77], index=['ram', 'shyam','hari', 'sita'])\n",
    "data"
   ]
  },
  {
   "cell_type": "code",
   "execution_count": 17,
   "id": "807c2924",
   "metadata": {
    "scrolled": true
   },
   "outputs": [
    {
     "data": {
      "text/plain": [
       "ram      3.0\n",
       "shyam    1.0\n",
       "hari     4.0\n",
       "sita     2.0\n",
       "dtype: float64"
      ]
     },
     "execution_count": 17,
     "metadata": {},
     "output_type": "execute_result"
    }
   ],
   "source": [
    "data.rank()"
   ]
  },
  {
   "cell_type": "code",
   "execution_count": 18,
   "id": "0b6d04a8",
   "metadata": {},
   "outputs": [
    {
     "data": {
      "text/plain": [
       "4"
      ]
     },
     "execution_count": 18,
     "metadata": {},
     "output_type": "execute_result"
    }
   ],
   "source": [
    "len(data)"
   ]
  },
  {
   "cell_type": "code",
   "execution_count": 21,
   "id": "bbb27747",
   "metadata": {},
   "outputs": [
    {
     "data": {
      "text/plain": [
       "shyam     33\n",
       "sita      77\n",
       "ram      222\n",
       "hari     555\n",
       "dtype: int64"
      ]
     },
     "execution_count": 21,
     "metadata": {},
     "output_type": "execute_result"
    }
   ],
   "source": [
    "data.sort_values()"
   ]
  },
  {
   "cell_type": "code",
   "execution_count": 23,
   "id": "6da0ecad",
   "metadata": {},
   "outputs": [
    {
     "data": {
      "text/plain": [
       "pandas.core.series.Series"
      ]
     },
     "execution_count": 23,
     "metadata": {},
     "output_type": "execute_result"
    }
   ],
   "source": [
    "type(data)"
   ]
  },
  {
   "cell_type": "code",
   "execution_count": 24,
   "id": "00e783b4",
   "metadata": {},
   "outputs": [],
   "source": [
    "#DataFrame"
   ]
  },
  {
   "cell_type": "code",
   "execution_count": 25,
   "id": "b1546f45",
   "metadata": {},
   "outputs": [],
   "source": [
    "df = pd.read_csv('mcu_box_office.csv')"
   ]
  },
  {
   "cell_type": "code",
   "execution_count": 26,
   "id": "8255e3d2",
   "metadata": {},
   "outputs": [
    {
     "name": "stdout",
     "output_type": "stream",
     "text": [
      "                                  movie_title  mcu_phase release_date  \\\n",
      "0                                    Iron Man          1     5/2/2008   \n",
      "1                         The Incredible Hulk          1    6/13/2008   \n",
      "2                                  Iron Man 2          1     5/7/2010   \n",
      "3                                        Thor          1     5/6/2011   \n",
      "4          Captain America: The First Avenger          1    7/22/2011   \n",
      "5                                The Avengers          1     5/4/2012   \n",
      "6                                  Iron Man 3          2     5/3/2013   \n",
      "7                        Thor: The Dark World          2    11/8/2013   \n",
      "8         Captain America: The Winter Soldier          2     4/4/2014   \n",
      "9                     Guardians of the Galaxy          2     8/1/2014   \n",
      "10                    Avengers: Age of Ultron          2     5/1/2015   \n",
      "11                                    Ant-Man          2    7/17/2015   \n",
      "12                 Captain America: Civil War          3     5/6/2016   \n",
      "13                             Doctor Strange          3    11/4/2016   \n",
      "14             Guardians of the Galaxy Vol. 2          3     5/5/2017   \n",
      "15                     Spider-Man: Homecoming          3     7/7/2017   \n",
      "16                             Thor: Ragnarok          3    11/3/2017   \n",
      "17                              Black Panther          3    2/16/2018   \n",
      "18                     Avengers: Infinity War          3    4/27/2018   \n",
      "19                       Ant-Man and the Wasp          3     7/6/2018   \n",
      "20                             Captain Marvel          3     3/8/2019   \n",
      "21                         Avengers: End Game          3    4/26/2019   \n",
      "22                  Spider-Man: Far From Home          3     7/2/2019   \n",
      "23                                Black Widow          4     7/9/2021   \n",
      "24  Shang-Chi and the Legend of the Ten Rings          4     9/3/2021   \n",
      "25                                   Eternals          4    11/5/2021   \n",
      "26                    Spider-Man: No Way Home          4   12/17/2021   \n",
      "\n",
      "    tomato_meter  audience_score  movie_duration production_budget  \\\n",
      "0             94              91             126       186,000,000   \n",
      "1             67              70             112       137,500,000   \n",
      "2             72              71             124       170,000,000   \n",
      "3             77              76             113       150,000,000   \n",
      "4             79              75             124       140,000,000   \n",
      "5             91              91             143       225,000,000   \n",
      "6             79              78             130       200,000,000   \n",
      "7             66              75             111       150,000,000   \n",
      "8             90              92             135       170,000,000   \n",
      "9             92              92             121       170,000,000   \n",
      "10            76              83             141       365,000,000   \n",
      "11            83              85             117       130,000,000   \n",
      "12            90              89             146       250,000,000   \n",
      "13            89              86             115       165,000,000   \n",
      "14            85              87             135       200,000,000   \n",
      "15            92              87             133       175,000,000   \n",
      "16            93              87             130       180,000,000   \n",
      "17            96              79             134       200,000,000   \n",
      "18            85              91             149       300,000,000   \n",
      "19            87              81             118       130,000,000   \n",
      "20            79              45             124       175,000,000   \n",
      "21            94              90             181       400,000,000   \n",
      "22            90              95             129       160,000,000   \n",
      "23            79              91             133       200,000,000   \n",
      "24            91              98             133       150,000,000   \n",
      "25            47              78             157       200,000,000   \n",
      "26            93              98             148       200,000,000   \n",
      "\n",
      "   opening_weekend domestic_box_office worldwide_box_office  \n",
      "0      102,118,668         318,604,126          585,171,547  \n",
      "1       55,414,050         134,806,913          265,573,859  \n",
      "2      128,122,480         312,433,331          621,156,389  \n",
      "3       65,723,338         181,030,624          449,326,618  \n",
      "4       65,058,524         176,654,505          370,569,776  \n",
      "5      207,438,708         623,357,910        1,515,100,211  \n",
      "6      174,144,585         408,992,272        1,215,392,272  \n",
      "7       85,737,841         206,362,140          644,602,516  \n",
      "8       95,023,721         259,746,958          714,401,889  \n",
      "9       94,320,883         333,714,112          770,882,395  \n",
      "10     191,271,109         459,005,868        1,395,316,979  \n",
      "11      57,225,526         180,202,163          518,858,449  \n",
      "12     179,139,142         408,084,349        1,151,918,521  \n",
      "13      85,058,311         232,641,920          676,354,481  \n",
      "14     146,510,104         389,813,101          869,113,101  \n",
      "15     117,027,503         334,201,140          878,346,440  \n",
      "16     122,744,989         315,058,289          850,482,778  \n",
      "17     202,003,951         700,059,566        1,336,494,321  \n",
      "18     257,698,183         678,815,482        2,048,359,754  \n",
      "19      75,812,205         216,648,740          623,144,660  \n",
      "20     153,433,423         426,829,839        1,129,727,388  \n",
      "21     357,115,007         858,373,000        2,797,800,564  \n",
      "22      92,579,212         390,532,085        1,132,532,832  \n",
      "23      80,366,312         183,651,655          379,751,655  \n",
      "24      75,388,688         224,543,292          432,243,292  \n",
      "25      71,297,219         164,870,264          402,064,929  \n",
      "26     260,138,569         803,975,784        1,891,108,035  \n"
     ]
    }
   ],
   "source": [
    "print(df)"
   ]
  },
  {
   "cell_type": "code",
   "execution_count": 27,
   "id": "f6926da2",
   "metadata": {
    "scrolled": true
   },
   "outputs": [
    {
     "data": {
      "text/html": [
       "<div>\n",
       "<style scoped>\n",
       "    .dataframe tbody tr th:only-of-type {\n",
       "        vertical-align: middle;\n",
       "    }\n",
       "\n",
       "    .dataframe tbody tr th {\n",
       "        vertical-align: top;\n",
       "    }\n",
       "\n",
       "    .dataframe thead th {\n",
       "        text-align: right;\n",
       "    }\n",
       "</style>\n",
       "<table border=\"1\" class=\"dataframe\">\n",
       "  <thead>\n",
       "    <tr style=\"text-align: right;\">\n",
       "      <th></th>\n",
       "      <th>movie_title</th>\n",
       "      <th>mcu_phase</th>\n",
       "      <th>release_date</th>\n",
       "      <th>tomato_meter</th>\n",
       "      <th>audience_score</th>\n",
       "      <th>movie_duration</th>\n",
       "      <th>production_budget</th>\n",
       "      <th>opening_weekend</th>\n",
       "      <th>domestic_box_office</th>\n",
       "      <th>worldwide_box_office</th>\n",
       "    </tr>\n",
       "  </thead>\n",
       "  <tbody>\n",
       "    <tr>\n",
       "      <th>0</th>\n",
       "      <td>Iron Man</td>\n",
       "      <td>1</td>\n",
       "      <td>5/2/2008</td>\n",
       "      <td>94</td>\n",
       "      <td>91</td>\n",
       "      <td>126</td>\n",
       "      <td>186,000,000</td>\n",
       "      <td>102,118,668</td>\n",
       "      <td>318,604,126</td>\n",
       "      <td>585,171,547</td>\n",
       "    </tr>\n",
       "    <tr>\n",
       "      <th>1</th>\n",
       "      <td>The Incredible Hulk</td>\n",
       "      <td>1</td>\n",
       "      <td>6/13/2008</td>\n",
       "      <td>67</td>\n",
       "      <td>70</td>\n",
       "      <td>112</td>\n",
       "      <td>137,500,000</td>\n",
       "      <td>55,414,050</td>\n",
       "      <td>134,806,913</td>\n",
       "      <td>265,573,859</td>\n",
       "    </tr>\n",
       "    <tr>\n",
       "      <th>2</th>\n",
       "      <td>Iron Man 2</td>\n",
       "      <td>1</td>\n",
       "      <td>5/7/2010</td>\n",
       "      <td>72</td>\n",
       "      <td>71</td>\n",
       "      <td>124</td>\n",
       "      <td>170,000,000</td>\n",
       "      <td>128,122,480</td>\n",
       "      <td>312,433,331</td>\n",
       "      <td>621,156,389</td>\n",
       "    </tr>\n",
       "    <tr>\n",
       "      <th>3</th>\n",
       "      <td>Thor</td>\n",
       "      <td>1</td>\n",
       "      <td>5/6/2011</td>\n",
       "      <td>77</td>\n",
       "      <td>76</td>\n",
       "      <td>113</td>\n",
       "      <td>150,000,000</td>\n",
       "      <td>65,723,338</td>\n",
       "      <td>181,030,624</td>\n",
       "      <td>449,326,618</td>\n",
       "    </tr>\n",
       "    <tr>\n",
       "      <th>4</th>\n",
       "      <td>Captain America: The First Avenger</td>\n",
       "      <td>1</td>\n",
       "      <td>7/22/2011</td>\n",
       "      <td>79</td>\n",
       "      <td>75</td>\n",
       "      <td>124</td>\n",
       "      <td>140,000,000</td>\n",
       "      <td>65,058,524</td>\n",
       "      <td>176,654,505</td>\n",
       "      <td>370,569,776</td>\n",
       "    </tr>\n",
       "    <tr>\n",
       "      <th>5</th>\n",
       "      <td>The Avengers</td>\n",
       "      <td>1</td>\n",
       "      <td>5/4/2012</td>\n",
       "      <td>91</td>\n",
       "      <td>91</td>\n",
       "      <td>143</td>\n",
       "      <td>225,000,000</td>\n",
       "      <td>207,438,708</td>\n",
       "      <td>623,357,910</td>\n",
       "      <td>1,515,100,211</td>\n",
       "    </tr>\n",
       "    <tr>\n",
       "      <th>6</th>\n",
       "      <td>Iron Man 3</td>\n",
       "      <td>2</td>\n",
       "      <td>5/3/2013</td>\n",
       "      <td>79</td>\n",
       "      <td>78</td>\n",
       "      <td>130</td>\n",
       "      <td>200,000,000</td>\n",
       "      <td>174,144,585</td>\n",
       "      <td>408,992,272</td>\n",
       "      <td>1,215,392,272</td>\n",
       "    </tr>\n",
       "    <tr>\n",
       "      <th>7</th>\n",
       "      <td>Thor: The Dark World</td>\n",
       "      <td>2</td>\n",
       "      <td>11/8/2013</td>\n",
       "      <td>66</td>\n",
       "      <td>75</td>\n",
       "      <td>111</td>\n",
       "      <td>150,000,000</td>\n",
       "      <td>85,737,841</td>\n",
       "      <td>206,362,140</td>\n",
       "      <td>644,602,516</td>\n",
       "    </tr>\n",
       "    <tr>\n",
       "      <th>8</th>\n",
       "      <td>Captain America: The Winter Soldier</td>\n",
       "      <td>2</td>\n",
       "      <td>4/4/2014</td>\n",
       "      <td>90</td>\n",
       "      <td>92</td>\n",
       "      <td>135</td>\n",
       "      <td>170,000,000</td>\n",
       "      <td>95,023,721</td>\n",
       "      <td>259,746,958</td>\n",
       "      <td>714,401,889</td>\n",
       "    </tr>\n",
       "    <tr>\n",
       "      <th>9</th>\n",
       "      <td>Guardians of the Galaxy</td>\n",
       "      <td>2</td>\n",
       "      <td>8/1/2014</td>\n",
       "      <td>92</td>\n",
       "      <td>92</td>\n",
       "      <td>121</td>\n",
       "      <td>170,000,000</td>\n",
       "      <td>94,320,883</td>\n",
       "      <td>333,714,112</td>\n",
       "      <td>770,882,395</td>\n",
       "    </tr>\n",
       "    <tr>\n",
       "      <th>10</th>\n",
       "      <td>Avengers: Age of Ultron</td>\n",
       "      <td>2</td>\n",
       "      <td>5/1/2015</td>\n",
       "      <td>76</td>\n",
       "      <td>83</td>\n",
       "      <td>141</td>\n",
       "      <td>365,000,000</td>\n",
       "      <td>191,271,109</td>\n",
       "      <td>459,005,868</td>\n",
       "      <td>1,395,316,979</td>\n",
       "    </tr>\n",
       "    <tr>\n",
       "      <th>11</th>\n",
       "      <td>Ant-Man</td>\n",
       "      <td>2</td>\n",
       "      <td>7/17/2015</td>\n",
       "      <td>83</td>\n",
       "      <td>85</td>\n",
       "      <td>117</td>\n",
       "      <td>130,000,000</td>\n",
       "      <td>57,225,526</td>\n",
       "      <td>180,202,163</td>\n",
       "      <td>518,858,449</td>\n",
       "    </tr>\n",
       "    <tr>\n",
       "      <th>12</th>\n",
       "      <td>Captain America: Civil War</td>\n",
       "      <td>3</td>\n",
       "      <td>5/6/2016</td>\n",
       "      <td>90</td>\n",
       "      <td>89</td>\n",
       "      <td>146</td>\n",
       "      <td>250,000,000</td>\n",
       "      <td>179,139,142</td>\n",
       "      <td>408,084,349</td>\n",
       "      <td>1,151,918,521</td>\n",
       "    </tr>\n",
       "    <tr>\n",
       "      <th>13</th>\n",
       "      <td>Doctor Strange</td>\n",
       "      <td>3</td>\n",
       "      <td>11/4/2016</td>\n",
       "      <td>89</td>\n",
       "      <td>86</td>\n",
       "      <td>115</td>\n",
       "      <td>165,000,000</td>\n",
       "      <td>85,058,311</td>\n",
       "      <td>232,641,920</td>\n",
       "      <td>676,354,481</td>\n",
       "    </tr>\n",
       "    <tr>\n",
       "      <th>14</th>\n",
       "      <td>Guardians of the Galaxy Vol. 2</td>\n",
       "      <td>3</td>\n",
       "      <td>5/5/2017</td>\n",
       "      <td>85</td>\n",
       "      <td>87</td>\n",
       "      <td>135</td>\n",
       "      <td>200,000,000</td>\n",
       "      <td>146,510,104</td>\n",
       "      <td>389,813,101</td>\n",
       "      <td>869,113,101</td>\n",
       "    </tr>\n",
       "    <tr>\n",
       "      <th>15</th>\n",
       "      <td>Spider-Man: Homecoming</td>\n",
       "      <td>3</td>\n",
       "      <td>7/7/2017</td>\n",
       "      <td>92</td>\n",
       "      <td>87</td>\n",
       "      <td>133</td>\n",
       "      <td>175,000,000</td>\n",
       "      <td>117,027,503</td>\n",
       "      <td>334,201,140</td>\n",
       "      <td>878,346,440</td>\n",
       "    </tr>\n",
       "    <tr>\n",
       "      <th>16</th>\n",
       "      <td>Thor: Ragnarok</td>\n",
       "      <td>3</td>\n",
       "      <td>11/3/2017</td>\n",
       "      <td>93</td>\n",
       "      <td>87</td>\n",
       "      <td>130</td>\n",
       "      <td>180,000,000</td>\n",
       "      <td>122,744,989</td>\n",
       "      <td>315,058,289</td>\n",
       "      <td>850,482,778</td>\n",
       "    </tr>\n",
       "    <tr>\n",
       "      <th>17</th>\n",
       "      <td>Black Panther</td>\n",
       "      <td>3</td>\n",
       "      <td>2/16/2018</td>\n",
       "      <td>96</td>\n",
       "      <td>79</td>\n",
       "      <td>134</td>\n",
       "      <td>200,000,000</td>\n",
       "      <td>202,003,951</td>\n",
       "      <td>700,059,566</td>\n",
       "      <td>1,336,494,321</td>\n",
       "    </tr>\n",
       "    <tr>\n",
       "      <th>18</th>\n",
       "      <td>Avengers: Infinity War</td>\n",
       "      <td>3</td>\n",
       "      <td>4/27/2018</td>\n",
       "      <td>85</td>\n",
       "      <td>91</td>\n",
       "      <td>149</td>\n",
       "      <td>300,000,000</td>\n",
       "      <td>257,698,183</td>\n",
       "      <td>678,815,482</td>\n",
       "      <td>2,048,359,754</td>\n",
       "    </tr>\n",
       "    <tr>\n",
       "      <th>19</th>\n",
       "      <td>Ant-Man and the Wasp</td>\n",
       "      <td>3</td>\n",
       "      <td>7/6/2018</td>\n",
       "      <td>87</td>\n",
       "      <td>81</td>\n",
       "      <td>118</td>\n",
       "      <td>130,000,000</td>\n",
       "      <td>75,812,205</td>\n",
       "      <td>216,648,740</td>\n",
       "      <td>623,144,660</td>\n",
       "    </tr>\n",
       "    <tr>\n",
       "      <th>20</th>\n",
       "      <td>Captain Marvel</td>\n",
       "      <td>3</td>\n",
       "      <td>3/8/2019</td>\n",
       "      <td>79</td>\n",
       "      <td>45</td>\n",
       "      <td>124</td>\n",
       "      <td>175,000,000</td>\n",
       "      <td>153,433,423</td>\n",
       "      <td>426,829,839</td>\n",
       "      <td>1,129,727,388</td>\n",
       "    </tr>\n",
       "    <tr>\n",
       "      <th>21</th>\n",
       "      <td>Avengers: End Game</td>\n",
       "      <td>3</td>\n",
       "      <td>4/26/2019</td>\n",
       "      <td>94</td>\n",
       "      <td>90</td>\n",
       "      <td>181</td>\n",
       "      <td>400,000,000</td>\n",
       "      <td>357,115,007</td>\n",
       "      <td>858,373,000</td>\n",
       "      <td>2,797,800,564</td>\n",
       "    </tr>\n",
       "    <tr>\n",
       "      <th>22</th>\n",
       "      <td>Spider-Man: Far From Home</td>\n",
       "      <td>3</td>\n",
       "      <td>7/2/2019</td>\n",
       "      <td>90</td>\n",
       "      <td>95</td>\n",
       "      <td>129</td>\n",
       "      <td>160,000,000</td>\n",
       "      <td>92,579,212</td>\n",
       "      <td>390,532,085</td>\n",
       "      <td>1,132,532,832</td>\n",
       "    </tr>\n",
       "    <tr>\n",
       "      <th>23</th>\n",
       "      <td>Black Widow</td>\n",
       "      <td>4</td>\n",
       "      <td>7/9/2021</td>\n",
       "      <td>79</td>\n",
       "      <td>91</td>\n",
       "      <td>133</td>\n",
       "      <td>200,000,000</td>\n",
       "      <td>80,366,312</td>\n",
       "      <td>183,651,655</td>\n",
       "      <td>379,751,655</td>\n",
       "    </tr>\n",
       "    <tr>\n",
       "      <th>24</th>\n",
       "      <td>Shang-Chi and the Legend of the Ten Rings</td>\n",
       "      <td>4</td>\n",
       "      <td>9/3/2021</td>\n",
       "      <td>91</td>\n",
       "      <td>98</td>\n",
       "      <td>133</td>\n",
       "      <td>150,000,000</td>\n",
       "      <td>75,388,688</td>\n",
       "      <td>224,543,292</td>\n",
       "      <td>432,243,292</td>\n",
       "    </tr>\n",
       "    <tr>\n",
       "      <th>25</th>\n",
       "      <td>Eternals</td>\n",
       "      <td>4</td>\n",
       "      <td>11/5/2021</td>\n",
       "      <td>47</td>\n",
       "      <td>78</td>\n",
       "      <td>157</td>\n",
       "      <td>200,000,000</td>\n",
       "      <td>71,297,219</td>\n",
       "      <td>164,870,264</td>\n",
       "      <td>402,064,929</td>\n",
       "    </tr>\n",
       "    <tr>\n",
       "      <th>26</th>\n",
       "      <td>Spider-Man: No Way Home</td>\n",
       "      <td>4</td>\n",
       "      <td>12/17/2021</td>\n",
       "      <td>93</td>\n",
       "      <td>98</td>\n",
       "      <td>148</td>\n",
       "      <td>200,000,000</td>\n",
       "      <td>260,138,569</td>\n",
       "      <td>803,975,784</td>\n",
       "      <td>1,891,108,035</td>\n",
       "    </tr>\n",
       "  </tbody>\n",
       "</table>\n",
       "</div>"
      ],
      "text/plain": [
       "                                  movie_title  mcu_phase release_date  \\\n",
       "0                                    Iron Man          1     5/2/2008   \n",
       "1                         The Incredible Hulk          1    6/13/2008   \n",
       "2                                  Iron Man 2          1     5/7/2010   \n",
       "3                                        Thor          1     5/6/2011   \n",
       "4          Captain America: The First Avenger          1    7/22/2011   \n",
       "5                                The Avengers          1     5/4/2012   \n",
       "6                                  Iron Man 3          2     5/3/2013   \n",
       "7                        Thor: The Dark World          2    11/8/2013   \n",
       "8         Captain America: The Winter Soldier          2     4/4/2014   \n",
       "9                     Guardians of the Galaxy          2     8/1/2014   \n",
       "10                    Avengers: Age of Ultron          2     5/1/2015   \n",
       "11                                    Ant-Man          2    7/17/2015   \n",
       "12                 Captain America: Civil War          3     5/6/2016   \n",
       "13                             Doctor Strange          3    11/4/2016   \n",
       "14             Guardians of the Galaxy Vol. 2          3     5/5/2017   \n",
       "15                     Spider-Man: Homecoming          3     7/7/2017   \n",
       "16                             Thor: Ragnarok          3    11/3/2017   \n",
       "17                              Black Panther          3    2/16/2018   \n",
       "18                     Avengers: Infinity War          3    4/27/2018   \n",
       "19                       Ant-Man and the Wasp          3     7/6/2018   \n",
       "20                             Captain Marvel          3     3/8/2019   \n",
       "21                         Avengers: End Game          3    4/26/2019   \n",
       "22                  Spider-Man: Far From Home          3     7/2/2019   \n",
       "23                                Black Widow          4     7/9/2021   \n",
       "24  Shang-Chi and the Legend of the Ten Rings          4     9/3/2021   \n",
       "25                                   Eternals          4    11/5/2021   \n",
       "26                    Spider-Man: No Way Home          4   12/17/2021   \n",
       "\n",
       "    tomato_meter  audience_score  movie_duration production_budget  \\\n",
       "0             94              91             126       186,000,000   \n",
       "1             67              70             112       137,500,000   \n",
       "2             72              71             124       170,000,000   \n",
       "3             77              76             113       150,000,000   \n",
       "4             79              75             124       140,000,000   \n",
       "5             91              91             143       225,000,000   \n",
       "6             79              78             130       200,000,000   \n",
       "7             66              75             111       150,000,000   \n",
       "8             90              92             135       170,000,000   \n",
       "9             92              92             121       170,000,000   \n",
       "10            76              83             141       365,000,000   \n",
       "11            83              85             117       130,000,000   \n",
       "12            90              89             146       250,000,000   \n",
       "13            89              86             115       165,000,000   \n",
       "14            85              87             135       200,000,000   \n",
       "15            92              87             133       175,000,000   \n",
       "16            93              87             130       180,000,000   \n",
       "17            96              79             134       200,000,000   \n",
       "18            85              91             149       300,000,000   \n",
       "19            87              81             118       130,000,000   \n",
       "20            79              45             124       175,000,000   \n",
       "21            94              90             181       400,000,000   \n",
       "22            90              95             129       160,000,000   \n",
       "23            79              91             133       200,000,000   \n",
       "24            91              98             133       150,000,000   \n",
       "25            47              78             157       200,000,000   \n",
       "26            93              98             148       200,000,000   \n",
       "\n",
       "   opening_weekend domestic_box_office worldwide_box_office  \n",
       "0      102,118,668         318,604,126          585,171,547  \n",
       "1       55,414,050         134,806,913          265,573,859  \n",
       "2      128,122,480         312,433,331          621,156,389  \n",
       "3       65,723,338         181,030,624          449,326,618  \n",
       "4       65,058,524         176,654,505          370,569,776  \n",
       "5      207,438,708         623,357,910        1,515,100,211  \n",
       "6      174,144,585         408,992,272        1,215,392,272  \n",
       "7       85,737,841         206,362,140          644,602,516  \n",
       "8       95,023,721         259,746,958          714,401,889  \n",
       "9       94,320,883         333,714,112          770,882,395  \n",
       "10     191,271,109         459,005,868        1,395,316,979  \n",
       "11      57,225,526         180,202,163          518,858,449  \n",
       "12     179,139,142         408,084,349        1,151,918,521  \n",
       "13      85,058,311         232,641,920          676,354,481  \n",
       "14     146,510,104         389,813,101          869,113,101  \n",
       "15     117,027,503         334,201,140          878,346,440  \n",
       "16     122,744,989         315,058,289          850,482,778  \n",
       "17     202,003,951         700,059,566        1,336,494,321  \n",
       "18     257,698,183         678,815,482        2,048,359,754  \n",
       "19      75,812,205         216,648,740          623,144,660  \n",
       "20     153,433,423         426,829,839        1,129,727,388  \n",
       "21     357,115,007         858,373,000        2,797,800,564  \n",
       "22      92,579,212         390,532,085        1,132,532,832  \n",
       "23      80,366,312         183,651,655          379,751,655  \n",
       "24      75,388,688         224,543,292          432,243,292  \n",
       "25      71,297,219         164,870,264          402,064,929  \n",
       "26     260,138,569         803,975,784        1,891,108,035  "
      ]
     },
     "execution_count": 27,
     "metadata": {},
     "output_type": "execute_result"
    }
   ],
   "source": [
    "df"
   ]
  },
  {
   "cell_type": "code",
   "execution_count": 30,
   "id": "4fea7c56",
   "metadata": {},
   "outputs": [
    {
     "data": {
      "text/plain": [
       "Index(['movie_title', 'mcu_phase', 'release_date', 'tomato_meter',\n",
       "       'audience_score', 'movie_duration', 'production_budget',\n",
       "       'opening_weekend', 'domestic_box_office', 'worldwide_box_office'],\n",
       "      dtype='object')"
      ]
     },
     "execution_count": 30,
     "metadata": {},
     "output_type": "execute_result"
    }
   ],
   "source": [
    "df.columns"
   ]
  },
  {
   "cell_type": "code",
   "execution_count": 33,
   "id": "9ff3c808",
   "metadata": {},
   "outputs": [
    {
     "data": {
      "text/html": [
       "<div>\n",
       "<style scoped>\n",
       "    .dataframe tbody tr th:only-of-type {\n",
       "        vertical-align: middle;\n",
       "    }\n",
       "\n",
       "    .dataframe tbody tr th {\n",
       "        vertical-align: top;\n",
       "    }\n",
       "\n",
       "    .dataframe thead th {\n",
       "        text-align: right;\n",
       "    }\n",
       "</style>\n",
       "<table border=\"1\" class=\"dataframe\">\n",
       "  <thead>\n",
       "    <tr style=\"text-align: right;\">\n",
       "      <th></th>\n",
       "      <th>movie_title</th>\n",
       "      <th>mcu_phase</th>\n",
       "      <th>release_date</th>\n",
       "      <th>tomato_meter</th>\n",
       "      <th>audience_score</th>\n",
       "      <th>movie_duration</th>\n",
       "      <th>production_budget</th>\n",
       "      <th>opening_weekend</th>\n",
       "      <th>domestic_box_office</th>\n",
       "      <th>worldwide_box_office</th>\n",
       "    </tr>\n",
       "  </thead>\n",
       "  <tbody>\n",
       "    <tr>\n",
       "      <th>0</th>\n",
       "      <td>Iron Man</td>\n",
       "      <td>1</td>\n",
       "      <td>5/2/2008</td>\n",
       "      <td>94</td>\n",
       "      <td>91</td>\n",
       "      <td>126</td>\n",
       "      <td>186,000,000</td>\n",
       "      <td>102,118,668</td>\n",
       "      <td>318,604,126</td>\n",
       "      <td>585,171,547</td>\n",
       "    </tr>\n",
       "    <tr>\n",
       "      <th>1</th>\n",
       "      <td>The Incredible Hulk</td>\n",
       "      <td>1</td>\n",
       "      <td>6/13/2008</td>\n",
       "      <td>67</td>\n",
       "      <td>70</td>\n",
       "      <td>112</td>\n",
       "      <td>137,500,000</td>\n",
       "      <td>55,414,050</td>\n",
       "      <td>134,806,913</td>\n",
       "      <td>265,573,859</td>\n",
       "    </tr>\n",
       "    <tr>\n",
       "      <th>2</th>\n",
       "      <td>Iron Man 2</td>\n",
       "      <td>1</td>\n",
       "      <td>5/7/2010</td>\n",
       "      <td>72</td>\n",
       "      <td>71</td>\n",
       "      <td>124</td>\n",
       "      <td>170,000,000</td>\n",
       "      <td>128,122,480</td>\n",
       "      <td>312,433,331</td>\n",
       "      <td>621,156,389</td>\n",
       "    </tr>\n",
       "    <tr>\n",
       "      <th>3</th>\n",
       "      <td>Thor</td>\n",
       "      <td>1</td>\n",
       "      <td>5/6/2011</td>\n",
       "      <td>77</td>\n",
       "      <td>76</td>\n",
       "      <td>113</td>\n",
       "      <td>150,000,000</td>\n",
       "      <td>65,723,338</td>\n",
       "      <td>181,030,624</td>\n",
       "      <td>449,326,618</td>\n",
       "    </tr>\n",
       "    <tr>\n",
       "      <th>4</th>\n",
       "      <td>Captain America: The First Avenger</td>\n",
       "      <td>1</td>\n",
       "      <td>7/22/2011</td>\n",
       "      <td>79</td>\n",
       "      <td>75</td>\n",
       "      <td>124</td>\n",
       "      <td>140,000,000</td>\n",
       "      <td>65,058,524</td>\n",
       "      <td>176,654,505</td>\n",
       "      <td>370,569,776</td>\n",
       "    </tr>\n",
       "  </tbody>\n",
       "</table>\n",
       "</div>"
      ],
      "text/plain": [
       "                          movie_title  mcu_phase release_date  tomato_meter  \\\n",
       "0                            Iron Man          1     5/2/2008            94   \n",
       "1                 The Incredible Hulk          1    6/13/2008            67   \n",
       "2                          Iron Man 2          1     5/7/2010            72   \n",
       "3                                Thor          1     5/6/2011            77   \n",
       "4  Captain America: The First Avenger          1    7/22/2011            79   \n",
       "\n",
       "   audience_score  movie_duration production_budget opening_weekend  \\\n",
       "0              91             126       186,000,000     102,118,668   \n",
       "1              70             112       137,500,000      55,414,050   \n",
       "2              71             124       170,000,000     128,122,480   \n",
       "3              76             113       150,000,000      65,723,338   \n",
       "4              75             124       140,000,000      65,058,524   \n",
       "\n",
       "  domestic_box_office worldwide_box_office  \n",
       "0         318,604,126          585,171,547  \n",
       "1         134,806,913          265,573,859  \n",
       "2         312,433,331          621,156,389  \n",
       "3         181,030,624          449,326,618  \n",
       "4         176,654,505          370,569,776  "
      ]
     },
     "execution_count": 33,
     "metadata": {},
     "output_type": "execute_result"
    }
   ],
   "source": [
    "df.head() #top 5"
   ]
  },
  {
   "cell_type": "code",
   "execution_count": 34,
   "id": "1f05ffaf",
   "metadata": {},
   "outputs": [
    {
     "data": {
      "text/html": [
       "<div>\n",
       "<style scoped>\n",
       "    .dataframe tbody tr th:only-of-type {\n",
       "        vertical-align: middle;\n",
       "    }\n",
       "\n",
       "    .dataframe tbody tr th {\n",
       "        vertical-align: top;\n",
       "    }\n",
       "\n",
       "    .dataframe thead th {\n",
       "        text-align: right;\n",
       "    }\n",
       "</style>\n",
       "<table border=\"1\" class=\"dataframe\">\n",
       "  <thead>\n",
       "    <tr style=\"text-align: right;\">\n",
       "      <th></th>\n",
       "      <th>movie_title</th>\n",
       "      <th>mcu_phase</th>\n",
       "      <th>release_date</th>\n",
       "      <th>tomato_meter</th>\n",
       "      <th>audience_score</th>\n",
       "      <th>movie_duration</th>\n",
       "      <th>production_budget</th>\n",
       "      <th>opening_weekend</th>\n",
       "      <th>domestic_box_office</th>\n",
       "      <th>worldwide_box_office</th>\n",
       "    </tr>\n",
       "  </thead>\n",
       "  <tbody>\n",
       "    <tr>\n",
       "      <th>0</th>\n",
       "      <td>Iron Man</td>\n",
       "      <td>1</td>\n",
       "      <td>5/2/2008</td>\n",
       "      <td>94</td>\n",
       "      <td>91</td>\n",
       "      <td>126</td>\n",
       "      <td>186,000,000</td>\n",
       "      <td>102,118,668</td>\n",
       "      <td>318,604,126</td>\n",
       "      <td>585,171,547</td>\n",
       "    </tr>\n",
       "    <tr>\n",
       "      <th>1</th>\n",
       "      <td>The Incredible Hulk</td>\n",
       "      <td>1</td>\n",
       "      <td>6/13/2008</td>\n",
       "      <td>67</td>\n",
       "      <td>70</td>\n",
       "      <td>112</td>\n",
       "      <td>137,500,000</td>\n",
       "      <td>55,414,050</td>\n",
       "      <td>134,806,913</td>\n",
       "      <td>265,573,859</td>\n",
       "    </tr>\n",
       "    <tr>\n",
       "      <th>2</th>\n",
       "      <td>Iron Man 2</td>\n",
       "      <td>1</td>\n",
       "      <td>5/7/2010</td>\n",
       "      <td>72</td>\n",
       "      <td>71</td>\n",
       "      <td>124</td>\n",
       "      <td>170,000,000</td>\n",
       "      <td>128,122,480</td>\n",
       "      <td>312,433,331</td>\n",
       "      <td>621,156,389</td>\n",
       "    </tr>\n",
       "  </tbody>\n",
       "</table>\n",
       "</div>"
      ],
      "text/plain": [
       "           movie_title  mcu_phase release_date  tomato_meter  audience_score  \\\n",
       "0             Iron Man          1     5/2/2008            94              91   \n",
       "1  The Incredible Hulk          1    6/13/2008            67              70   \n",
       "2           Iron Man 2          1     5/7/2010            72              71   \n",
       "\n",
       "   movie_duration production_budget opening_weekend domestic_box_office  \\\n",
       "0             126       186,000,000     102,118,668         318,604,126   \n",
       "1             112       137,500,000      55,414,050         134,806,913   \n",
       "2             124       170,000,000     128,122,480         312,433,331   \n",
       "\n",
       "  worldwide_box_office  \n",
       "0          585,171,547  \n",
       "1          265,573,859  \n",
       "2          621,156,389  "
      ]
     },
     "execution_count": 34,
     "metadata": {},
     "output_type": "execute_result"
    }
   ],
   "source": [
    "df.head(3) #top 3"
   ]
  },
  {
   "cell_type": "code",
   "execution_count": 39,
   "id": "c084d8a0",
   "metadata": {},
   "outputs": [
    {
     "data": {
      "text/html": [
       "<div>\n",
       "<style scoped>\n",
       "    .dataframe tbody tr th:only-of-type {\n",
       "        vertical-align: middle;\n",
       "    }\n",
       "\n",
       "    .dataframe tbody tr th {\n",
       "        vertical-align: top;\n",
       "    }\n",
       "\n",
       "    .dataframe thead th {\n",
       "        text-align: right;\n",
       "    }\n",
       "</style>\n",
       "<table border=\"1\" class=\"dataframe\">\n",
       "  <thead>\n",
       "    <tr style=\"text-align: right;\">\n",
       "      <th></th>\n",
       "      <th>movie_title</th>\n",
       "      <th>mcu_phase</th>\n",
       "      <th>release_date</th>\n",
       "      <th>tomato_meter</th>\n",
       "      <th>audience_score</th>\n",
       "      <th>movie_duration</th>\n",
       "      <th>production_budget</th>\n",
       "      <th>opening_weekend</th>\n",
       "      <th>domestic_box_office</th>\n",
       "      <th>worldwide_box_office</th>\n",
       "    </tr>\n",
       "  </thead>\n",
       "  <tbody>\n",
       "    <tr>\n",
       "      <th>22</th>\n",
       "      <td>Spider-Man: Far From Home</td>\n",
       "      <td>3</td>\n",
       "      <td>7/2/2019</td>\n",
       "      <td>90</td>\n",
       "      <td>95</td>\n",
       "      <td>129</td>\n",
       "      <td>160,000,000</td>\n",
       "      <td>92,579,212</td>\n",
       "      <td>390,532,085</td>\n",
       "      <td>1,132,532,832</td>\n",
       "    </tr>\n",
       "    <tr>\n",
       "      <th>23</th>\n",
       "      <td>Black Widow</td>\n",
       "      <td>4</td>\n",
       "      <td>7/9/2021</td>\n",
       "      <td>79</td>\n",
       "      <td>91</td>\n",
       "      <td>133</td>\n",
       "      <td>200,000,000</td>\n",
       "      <td>80,366,312</td>\n",
       "      <td>183,651,655</td>\n",
       "      <td>379,751,655</td>\n",
       "    </tr>\n",
       "    <tr>\n",
       "      <th>24</th>\n",
       "      <td>Shang-Chi and the Legend of the Ten Rings</td>\n",
       "      <td>4</td>\n",
       "      <td>9/3/2021</td>\n",
       "      <td>91</td>\n",
       "      <td>98</td>\n",
       "      <td>133</td>\n",
       "      <td>150,000,000</td>\n",
       "      <td>75,388,688</td>\n",
       "      <td>224,543,292</td>\n",
       "      <td>432,243,292</td>\n",
       "    </tr>\n",
       "    <tr>\n",
       "      <th>25</th>\n",
       "      <td>Eternals</td>\n",
       "      <td>4</td>\n",
       "      <td>11/5/2021</td>\n",
       "      <td>47</td>\n",
       "      <td>78</td>\n",
       "      <td>157</td>\n",
       "      <td>200,000,000</td>\n",
       "      <td>71,297,219</td>\n",
       "      <td>164,870,264</td>\n",
       "      <td>402,064,929</td>\n",
       "    </tr>\n",
       "    <tr>\n",
       "      <th>26</th>\n",
       "      <td>Spider-Man: No Way Home</td>\n",
       "      <td>4</td>\n",
       "      <td>12/17/2021</td>\n",
       "      <td>93</td>\n",
       "      <td>98</td>\n",
       "      <td>148</td>\n",
       "      <td>200,000,000</td>\n",
       "      <td>260,138,569</td>\n",
       "      <td>803,975,784</td>\n",
       "      <td>1,891,108,035</td>\n",
       "    </tr>\n",
       "  </tbody>\n",
       "</table>\n",
       "</div>"
      ],
      "text/plain": [
       "                                  movie_title  mcu_phase release_date  \\\n",
       "22                  Spider-Man: Far From Home          3     7/2/2019   \n",
       "23                                Black Widow          4     7/9/2021   \n",
       "24  Shang-Chi and the Legend of the Ten Rings          4     9/3/2021   \n",
       "25                                   Eternals          4    11/5/2021   \n",
       "26                    Spider-Man: No Way Home          4   12/17/2021   \n",
       "\n",
       "    tomato_meter  audience_score  movie_duration production_budget  \\\n",
       "22            90              95             129       160,000,000   \n",
       "23            79              91             133       200,000,000   \n",
       "24            91              98             133       150,000,000   \n",
       "25            47              78             157       200,000,000   \n",
       "26            93              98             148       200,000,000   \n",
       "\n",
       "   opening_weekend domestic_box_office worldwide_box_office  \n",
       "22      92,579,212         390,532,085        1,132,532,832  \n",
       "23      80,366,312         183,651,655          379,751,655  \n",
       "24      75,388,688         224,543,292          432,243,292  \n",
       "25      71,297,219         164,870,264          402,064,929  \n",
       "26     260,138,569         803,975,784        1,891,108,035  "
      ]
     },
     "execution_count": 39,
     "metadata": {},
     "output_type": "execute_result"
    }
   ],
   "source": [
    "df.tail() #last 5"
   ]
  },
  {
   "cell_type": "code",
   "execution_count": 40,
   "id": "7a1a6d5c",
   "metadata": {},
   "outputs": [
    {
     "data": {
      "text/html": [
       "<div>\n",
       "<style scoped>\n",
       "    .dataframe tbody tr th:only-of-type {\n",
       "        vertical-align: middle;\n",
       "    }\n",
       "\n",
       "    .dataframe tbody tr th {\n",
       "        vertical-align: top;\n",
       "    }\n",
       "\n",
       "    .dataframe thead th {\n",
       "        text-align: right;\n",
       "    }\n",
       "</style>\n",
       "<table border=\"1\" class=\"dataframe\">\n",
       "  <thead>\n",
       "    <tr style=\"text-align: right;\">\n",
       "      <th></th>\n",
       "      <th>movie_title</th>\n",
       "      <th>mcu_phase</th>\n",
       "      <th>release_date</th>\n",
       "      <th>tomato_meter</th>\n",
       "      <th>audience_score</th>\n",
       "      <th>movie_duration</th>\n",
       "      <th>production_budget</th>\n",
       "      <th>opening_weekend</th>\n",
       "      <th>domestic_box_office</th>\n",
       "      <th>worldwide_box_office</th>\n",
       "    </tr>\n",
       "  </thead>\n",
       "  <tbody>\n",
       "    <tr>\n",
       "      <th>25</th>\n",
       "      <td>Eternals</td>\n",
       "      <td>4</td>\n",
       "      <td>11/5/2021</td>\n",
       "      <td>47</td>\n",
       "      <td>78</td>\n",
       "      <td>157</td>\n",
       "      <td>200,000,000</td>\n",
       "      <td>71,297,219</td>\n",
       "      <td>164,870,264</td>\n",
       "      <td>402,064,929</td>\n",
       "    </tr>\n",
       "    <tr>\n",
       "      <th>26</th>\n",
       "      <td>Spider-Man: No Way Home</td>\n",
       "      <td>4</td>\n",
       "      <td>12/17/2021</td>\n",
       "      <td>93</td>\n",
       "      <td>98</td>\n",
       "      <td>148</td>\n",
       "      <td>200,000,000</td>\n",
       "      <td>260,138,569</td>\n",
       "      <td>803,975,784</td>\n",
       "      <td>1,891,108,035</td>\n",
       "    </tr>\n",
       "  </tbody>\n",
       "</table>\n",
       "</div>"
      ],
      "text/plain": [
       "                movie_title  mcu_phase release_date  tomato_meter  \\\n",
       "25                 Eternals          4    11/5/2021            47   \n",
       "26  Spider-Man: No Way Home          4   12/17/2021            93   \n",
       "\n",
       "    audience_score  movie_duration production_budget opening_weekend  \\\n",
       "25              78             157       200,000,000      71,297,219   \n",
       "26              98             148       200,000,000     260,138,569   \n",
       "\n",
       "   domestic_box_office worldwide_box_office  \n",
       "25         164,870,264          402,064,929  \n",
       "26         803,975,784        1,891,108,035  "
      ]
     },
     "execution_count": 40,
     "metadata": {},
     "output_type": "execute_result"
    }
   ],
   "source": [
    "df.tail(2) #last 2"
   ]
  },
  {
   "cell_type": "code",
   "execution_count": 42,
   "id": "54d4f9eb",
   "metadata": {},
   "outputs": [
    {
     "data": {
      "text/plain": [
       "'movie_title'"
      ]
     },
     "execution_count": 42,
     "metadata": {},
     "output_type": "execute_result"
    }
   ],
   "source": [
    "df.columns[0]"
   ]
  },
  {
   "cell_type": "code",
   "execution_count": 43,
   "id": "4c070a89",
   "metadata": {},
   "outputs": [
    {
     "data": {
      "text/plain": [
       "0                                      Iron Man\n",
       "1                           The Incredible Hulk\n",
       "2                                    Iron Man 2\n",
       "3                                          Thor\n",
       "4            Captain America: The First Avenger\n",
       "5                                  The Avengers\n",
       "6                                    Iron Man 3\n",
       "7                          Thor: The Dark World\n",
       "8           Captain America: The Winter Soldier\n",
       "9                       Guardians of the Galaxy\n",
       "10                      Avengers: Age of Ultron\n",
       "11                                      Ant-Man\n",
       "12                   Captain America: Civil War\n",
       "13                               Doctor Strange\n",
       "14               Guardians of the Galaxy Vol. 2\n",
       "15                       Spider-Man: Homecoming\n",
       "16                               Thor: Ragnarok\n",
       "17                                Black Panther\n",
       "18                       Avengers: Infinity War\n",
       "19                         Ant-Man and the Wasp\n",
       "20                               Captain Marvel\n",
       "21                           Avengers: End Game\n",
       "22                    Spider-Man: Far From Home\n",
       "23                                  Black Widow\n",
       "24    Shang-Chi and the Legend of the Ten Rings\n",
       "25                                     Eternals\n",
       "26                      Spider-Man: No Way Home\n",
       "Name: movie_title, dtype: object"
      ]
     },
     "execution_count": 43,
     "metadata": {},
     "output_type": "execute_result"
    }
   ],
   "source": [
    "df.movie_title"
   ]
  },
  {
   "cell_type": "code",
   "execution_count": 44,
   "id": "91507fc3",
   "metadata": {},
   "outputs": [
    {
     "data": {
      "text/plain": [
       "0                              Iron Man\n",
       "1                   The Incredible Hulk\n",
       "2                            Iron Man 2\n",
       "3                                  Thor\n",
       "4    Captain America: The First Avenger\n",
       "Name: movie_title, dtype: object"
      ]
     },
     "execution_count": 44,
     "metadata": {},
     "output_type": "execute_result"
    }
   ],
   "source": [
    "df.movie_title.head()"
   ]
  },
  {
   "cell_type": "code",
   "execution_count": 47,
   "id": "2bf4d21c",
   "metadata": {
    "scrolled": true
   },
   "outputs": [
    {
     "data": {
      "text/plain": [
       "0    126\n",
       "1    112\n",
       "2    124\n",
       "3    113\n",
       "4    124\n",
       "Name: movie_duration, dtype: int64"
      ]
     },
     "execution_count": 47,
     "metadata": {},
     "output_type": "execute_result"
    }
   ],
   "source": [
    "df.movie_duration.head(3)"
   ]
  },
  {
   "cell_type": "code",
   "execution_count": null,
   "id": "aedf58aa",
   "metadata": {},
   "outputs": [],
   "source": [
    "# Series: 1 Dimensional\n",
    "# DataFrame: 2 Dimensional\n",
    "    \n",
    "# head() = first 5 dekhauxa\n",
    "# head(3) = first 3 dekhauxa\n",
    "# tail() = last 5 dekhauxa\n",
    "# tail(3) = bottom 3 dekhauxa\n",
    "\n",
    "# df.columns = columns name dekhauxa\n",
    "# df.columns_name eg: df.movie_title garda tyo column display garxa"
   ]
  },
  {
   "cell_type": "code",
   "execution_count": 55,
   "id": "f20f425a",
   "metadata": {},
   "outputs": [],
   "source": [
    "#DataFrame aafai banaunay\n",
    "data = {\n",
    "    'place':['kathmandu', 'pokhara', 'btr'],\n",
    "    'provience':[3,4,1],\n",
    "    'population':[3000000, 1100000, 1200000]\n",
    "}"
   ]
  },
  {
   "cell_type": "code",
   "execution_count": 56,
   "id": "85cebec9",
   "metadata": {},
   "outputs": [
    {
     "data": {
      "text/html": [
       "<div>\n",
       "<style scoped>\n",
       "    .dataframe tbody tr th:only-of-type {\n",
       "        vertical-align: middle;\n",
       "    }\n",
       "\n",
       "    .dataframe tbody tr th {\n",
       "        vertical-align: top;\n",
       "    }\n",
       "\n",
       "    .dataframe thead th {\n",
       "        text-align: right;\n",
       "    }\n",
       "</style>\n",
       "<table border=\"1\" class=\"dataframe\">\n",
       "  <thead>\n",
       "    <tr style=\"text-align: right;\">\n",
       "      <th></th>\n",
       "      <th>place</th>\n",
       "      <th>provience</th>\n",
       "      <th>population</th>\n",
       "    </tr>\n",
       "  </thead>\n",
       "  <tbody>\n",
       "    <tr>\n",
       "      <th>0</th>\n",
       "      <td>kathmandu</td>\n",
       "      <td>3</td>\n",
       "      <td>3000000</td>\n",
       "    </tr>\n",
       "    <tr>\n",
       "      <th>1</th>\n",
       "      <td>pokhara</td>\n",
       "      <td>4</td>\n",
       "      <td>1100000</td>\n",
       "    </tr>\n",
       "    <tr>\n",
       "      <th>2</th>\n",
       "      <td>btr</td>\n",
       "      <td>1</td>\n",
       "      <td>1200000</td>\n",
       "    </tr>\n",
       "  </tbody>\n",
       "</table>\n",
       "</div>"
      ],
      "text/plain": [
       "       place  provience  population\n",
       "0  kathmandu          3     3000000\n",
       "1    pokhara          4     1100000\n",
       "2        btr          1     1200000"
      ]
     },
     "execution_count": 56,
     "metadata": {},
     "output_type": "execute_result"
    }
   ],
   "source": [
    "df = pd.DataFrame(data)\n",
    "df"
   ]
  },
  {
   "cell_type": "code",
   "execution_count": 57,
   "id": "77369d6e",
   "metadata": {},
   "outputs": [
    {
     "data": {
      "text/plain": [
       "0    kathmandu\n",
       "1      pokhara\n",
       "2          btr\n",
       "Name: place, dtype: object"
      ]
     },
     "execution_count": 57,
     "metadata": {},
     "output_type": "execute_result"
    }
   ],
   "source": [
    "df.place"
   ]
  },
  {
   "cell_type": "code",
   "execution_count": 58,
   "id": "51da7f07",
   "metadata": {},
   "outputs": [
    {
     "data": {
      "text/plain": [
       "0    3000000\n",
       "1    1100000\n",
       "2    1200000\n",
       "Name: population, dtype: int64"
      ]
     },
     "execution_count": 58,
     "metadata": {},
     "output_type": "execute_result"
    }
   ],
   "source": [
    "df.population"
   ]
  },
  {
   "cell_type": "code",
   "execution_count": 59,
   "id": "e06a5cae",
   "metadata": {},
   "outputs": [
    {
     "data": {
      "text/plain": [
       "0    3\n",
       "1    4\n",
       "2    1\n",
       "Name: provience, dtype: int64"
      ]
     },
     "execution_count": 59,
     "metadata": {},
     "output_type": "execute_result"
    }
   ],
   "source": [
    "df.provience"
   ]
  },
  {
   "cell_type": "code",
   "execution_count": 60,
   "id": "8f092233",
   "metadata": {},
   "outputs": [
    {
     "data": {
      "text/plain": [
       "'pokhara'"
      ]
     },
     "execution_count": 60,
     "metadata": {},
     "output_type": "execute_result"
    }
   ],
   "source": [
    "df['place'][1]"
   ]
  },
  {
   "cell_type": "code",
   "execution_count": 61,
   "id": "c32a0ece",
   "metadata": {},
   "outputs": [
    {
     "data": {
      "text/plain": [
       "'btr'"
      ]
     },
     "execution_count": 61,
     "metadata": {},
     "output_type": "execute_result"
    }
   ],
   "source": [
    "df['place'][2]"
   ]
  },
  {
   "cell_type": "code",
   "execution_count": 62,
   "id": "6c77a361",
   "metadata": {},
   "outputs": [
    {
     "data": {
      "text/plain": [
       "Index(['place', 'provience', 'population'], dtype='object')"
      ]
     },
     "execution_count": 62,
     "metadata": {},
     "output_type": "execute_result"
    }
   ],
   "source": [
    "df.columns"
   ]
  },
  {
   "cell_type": "code",
   "execution_count": 63,
   "id": "5ebed0f3",
   "metadata": {},
   "outputs": [
    {
     "data": {
      "text/plain": [
       "0    3000000\n",
       "1    1100000\n",
       "2    1200000\n",
       "Name: population, dtype: int64"
      ]
     },
     "execution_count": 63,
     "metadata": {},
     "output_type": "execute_result"
    }
   ],
   "source": [
    "df['population']"
   ]
  },
  {
   "cell_type": "code",
   "execution_count": 65,
   "id": "2fab28e8",
   "metadata": {},
   "outputs": [
    {
     "data": {
      "text/plain": [
       "0     True\n",
       "1    False\n",
       "2    False\n",
       "Name: population, dtype: bool"
      ]
     },
     "execution_count": 65,
     "metadata": {},
     "output_type": "execute_result"
    }
   ],
   "source": [
    "df['population']>2200000"
   ]
  },
  {
   "cell_type": "code",
   "execution_count": 67,
   "id": "532d4f21",
   "metadata": {},
   "outputs": [
    {
     "data": {
      "text/html": [
       "<div>\n",
       "<style scoped>\n",
       "    .dataframe tbody tr th:only-of-type {\n",
       "        vertical-align: middle;\n",
       "    }\n",
       "\n",
       "    .dataframe tbody tr th {\n",
       "        vertical-align: top;\n",
       "    }\n",
       "\n",
       "    .dataframe thead th {\n",
       "        text-align: right;\n",
       "    }\n",
       "</style>\n",
       "<table border=\"1\" class=\"dataframe\">\n",
       "  <thead>\n",
       "    <tr style=\"text-align: right;\">\n",
       "      <th></th>\n",
       "      <th>place</th>\n",
       "      <th>provience</th>\n",
       "      <th>population</th>\n",
       "    </tr>\n",
       "  </thead>\n",
       "  <tbody>\n",
       "    <tr>\n",
       "      <th>0</th>\n",
       "      <td>kathmandu</td>\n",
       "      <td>3</td>\n",
       "      <td>3000000</td>\n",
       "    </tr>\n",
       "  </tbody>\n",
       "</table>\n",
       "</div>"
      ],
      "text/plain": [
       "       place  provience  population\n",
       "0  kathmandu          3     3000000"
      ]
     },
     "execution_count": 67,
     "metadata": {},
     "output_type": "execute_result"
    }
   ],
   "source": [
    "df[df['population']>2200000]"
   ]
  },
  {
   "cell_type": "code",
   "execution_count": 68,
   "id": "cd5907b3",
   "metadata": {},
   "outputs": [
    {
     "data": {
      "text/html": [
       "<div>\n",
       "<style scoped>\n",
       "    .dataframe tbody tr th:only-of-type {\n",
       "        vertical-align: middle;\n",
       "    }\n",
       "\n",
       "    .dataframe tbody tr th {\n",
       "        vertical-align: top;\n",
       "    }\n",
       "\n",
       "    .dataframe thead th {\n",
       "        text-align: right;\n",
       "    }\n",
       "</style>\n",
       "<table border=\"1\" class=\"dataframe\">\n",
       "  <thead>\n",
       "    <tr style=\"text-align: right;\">\n",
       "      <th></th>\n",
       "      <th>place</th>\n",
       "      <th>provience</th>\n",
       "      <th>population</th>\n",
       "    </tr>\n",
       "  </thead>\n",
       "  <tbody>\n",
       "    <tr>\n",
       "      <th>1</th>\n",
       "      <td>pokhara</td>\n",
       "      <td>4</td>\n",
       "      <td>1100000</td>\n",
       "    </tr>\n",
       "    <tr>\n",
       "      <th>2</th>\n",
       "      <td>btr</td>\n",
       "      <td>1</td>\n",
       "      <td>1200000</td>\n",
       "    </tr>\n",
       "  </tbody>\n",
       "</table>\n",
       "</div>"
      ],
      "text/plain": [
       "     place  provience  population\n",
       "1  pokhara          4     1100000\n",
       "2      btr          1     1200000"
      ]
     },
     "execution_count": 68,
     "metadata": {},
     "output_type": "execute_result"
    }
   ],
   "source": [
    "df[df['population']<2200000]"
   ]
  },
  {
   "cell_type": "code",
   "execution_count": null,
   "id": "9402e98d",
   "metadata": {},
   "outputs": [],
   "source": []
  }
 ],
 "metadata": {
  "kernelspec": {
   "display_name": "Python 3 (ipykernel)",
   "language": "python",
   "name": "python3"
  },
  "language_info": {
   "codemirror_mode": {
    "name": "ipython",
    "version": 3
   },
   "file_extension": ".py",
   "mimetype": "text/x-python",
   "name": "python",
   "nbconvert_exporter": "python",
   "pygments_lexer": "ipython3",
   "version": "3.10.9"
  }
 },
 "nbformat": 4,
 "nbformat_minor": 5
}
