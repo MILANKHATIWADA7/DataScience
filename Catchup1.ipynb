{
 "cells": [
  {
   "cell_type": "markdown",
   "id": "4126a18b",
   "metadata": {},
   "source": [
    "# Introduction\n",
    "Controls\n",
    "Navigation"
   ]
  },
  {
   "cell_type": "code",
   "execution_count": 2,
   "id": "1e674862",
   "metadata": {},
   "outputs": [
    {
     "name": "stdout",
     "output_type": "stream",
     "text": [
      "This is data science class.\n"
     ]
    }
   ],
   "source": [
    "print(\"This is data science class.\")"
   ]
  },
  {
   "cell_type": "code",
   "execution_count": 3,
   "id": "bb350816",
   "metadata": {},
   "outputs": [
    {
     "data": {
      "text/plain": [
       "'C:\\\\Users\\\\MilanKhatiwada\\\\Desktop\\\\DataScience'"
      ]
     },
     "execution_count": 3,
     "metadata": {},
     "output_type": "execute_result"
    }
   ],
   "source": [
    "pwd "
   ]
  },
  {
   "cell_type": "code",
   "execution_count": 4,
   "id": "6e78a997",
   "metadata": {},
   "outputs": [],
   "source": [
    "#CapsLock and H is used for viewing shortcut keys"
   ]
  },
  {
   "cell_type": "code",
   "execution_count": 5,
   "id": "2f976113",
   "metadata": {},
   "outputs": [],
   "source": [
    "a = 22\n"
   ]
  },
  {
   "cell_type": "code",
   "execution_count": 6,
   "id": "4a8cfd85",
   "metadata": {},
   "outputs": [
    {
     "data": {
      "text/plain": [
       "22"
      ]
     },
     "execution_count": 6,
     "metadata": {},
     "output_type": "execute_result"
    }
   ],
   "source": [
    "a"
   ]
  },
  {
   "cell_type": "code",
   "execution_count": 7,
   "id": "e5b945ef",
   "metadata": {},
   "outputs": [
    {
     "data": {
      "text/plain": [
       "33"
      ]
     },
     "execution_count": 7,
     "metadata": {},
     "output_type": "execute_result"
    }
   ],
   "source": [
    "b = 33\n",
    "b"
   ]
  },
  {
   "cell_type": "code",
   "execution_count": 8,
   "id": "fe22fcd5",
   "metadata": {},
   "outputs": [
    {
     "data": {
      "text/plain": [
       "55"
      ]
     },
     "execution_count": 8,
     "metadata": {},
     "output_type": "execute_result"
    }
   ],
   "source": [
    "a + b"
   ]
  },
  {
   "cell_type": "code",
   "execution_count": 9,
   "id": "1112aea8",
   "metadata": {},
   "outputs": [
    {
     "data": {
      "text/plain": [
       "33"
      ]
     },
     "execution_count": 9,
     "metadata": {},
     "output_type": "execute_result"
    }
   ],
   "source": [
    "a\n",
    "b"
   ]
  },
  {
   "cell_type": "code",
   "execution_count": 15,
   "id": "614d9e22",
   "metadata": {},
   "outputs": [
    {
     "name": "stdout",
     "output_type": "stream",
     "text": [
      "1328183248816\n"
     ]
    }
   ],
   "source": [
    "print(id(a))"
   ]
  },
  {
   "cell_type": "code",
   "execution_count": 10,
   "id": "6e926ad1",
   "metadata": {},
   "outputs": [
    {
     "name": "stdout",
     "output_type": "stream",
     "text": [
      "22\n",
      "33\n"
     ]
    }
   ],
   "source": [
    "print(a)\n",
    "print(b)"
   ]
  },
  {
   "cell_type": "code",
   "execution_count": 12,
   "id": "bfe6ddd1",
   "metadata": {},
   "outputs": [
    {
     "name": "stdout",
     "output_type": "stream",
     "text": [
      "<class 'int'>\n"
     ]
    }
   ],
   "source": [
    "print(type(a))"
   ]
  },
  {
   "cell_type": "code",
   "execution_count": 13,
   "id": "2f6a3f84",
   "metadata": {},
   "outputs": [
    {
     "name": "stdout",
     "output_type": "stream",
     "text": [
      "55\n"
     ]
    }
   ],
   "source": [
    "a = 55\n",
    "print(a)"
   ]
  },
  {
   "cell_type": "code",
   "execution_count": 16,
   "id": "2c71e0a7",
   "metadata": {},
   "outputs": [
    {
     "name": "stdout",
     "output_type": "stream",
     "text": [
      "1328183248816\n"
     ]
    }
   ],
   "source": [
    "print(id(a))"
   ]
  },
  {
   "cell_type": "code",
   "execution_count": 1,
   "id": "5c3aafb8",
   "metadata": {},
   "outputs": [
    {
     "data": {
      "text/plain": [
       "77"
      ]
     },
     "execution_count": 1,
     "metadata": {},
     "output_type": "execute_result"
    }
   ],
   "source": [
    "a = 77\n",
    "a"
   ]
  },
  {
   "cell_type": "code",
   "execution_count": 19,
   "id": "a290ea82",
   "metadata": {},
   "outputs": [
    {
     "name": "stdout",
     "output_type": "stream",
     "text": [
      "1328183249520\n"
     ]
    }
   ],
   "source": [
    "print(id(a))"
   ]
  },
  {
   "cell_type": "code",
   "execution_count": 20,
   "id": "a611a9a3",
   "metadata": {},
   "outputs": [
    {
     "data": {
      "text/plain": [
       "77"
      ]
     },
     "execution_count": 20,
     "metadata": {},
     "output_type": "execute_result"
    }
   ],
   "source": [
    "x = 77\n",
    "x"
   ]
  },
  {
   "cell_type": "code",
   "execution_count": 21,
   "id": "68c484c5",
   "metadata": {},
   "outputs": [
    {
     "name": "stdout",
     "output_type": "stream",
     "text": [
      "1328183249520\n"
     ]
    }
   ],
   "source": [
    "print(id(x))"
   ]
  },
  {
   "cell_type": "code",
   "execution_count": 22,
   "id": "adafc380",
   "metadata": {},
   "outputs": [
    {
     "name": "stdout",
     "output_type": "stream",
     "text": [
      "This is test\n"
     ]
    }
   ],
   "source": [
    "print(\"This is test\")"
   ]
  },
  {
   "cell_type": "code",
   "execution_count": 24,
   "id": "1cd96d37",
   "metadata": {},
   "outputs": [
    {
     "name": "stdout",
     "output_type": "stream",
     "text": [
      "Enter any number:22\n"
     ]
    }
   ],
   "source": [
    "num = int(input(\"Enter any number:\"))"
   ]
  },
  {
   "cell_type": "code",
   "execution_count": 25,
   "id": "0b2629e1",
   "metadata": {},
   "outputs": [
    {
     "name": "stdout",
     "output_type": "stream",
     "text": [
      "This is test\n"
     ]
    }
   ],
   "source": [
    "print(\"This is test\")"
   ]
  },
  {
   "cell_type": "code",
   "execution_count": 1,
   "id": "8600785a",
   "metadata": {},
   "outputs": [
    {
     "name": "stdout",
     "output_type": "stream",
     "text": [
      "Enter any number:222\n",
      "<class 'str'>\n"
     ]
    }
   ],
   "source": [
    "n1 = input(\"Enter any number:\")\n",
    "print(type(n1))"
   ]
  },
  {
   "cell_type": "code",
   "execution_count": 3,
   "id": "bbf37a7c",
   "metadata": {},
   "outputs": [
    {
     "name": "stdout",
     "output_type": "stream",
     "text": [
      "<50\n"
     ]
    }
   ],
   "source": [
    "a = 33\n",
    "if a > 50:\n",
    "    print(\">50\")\n",
    "else:\n",
    "    print(\"<50\")"
   ]
  },
  {
   "cell_type": "code",
   "execution_count": 4,
   "id": "386ba3b2",
   "metadata": {},
   "outputs": [
    {
     "name": "stdout",
     "output_type": "stream",
     "text": [
      "=50\n"
     ]
    }
   ],
   "source": [
    "a = 50\n",
    "if a > 50:\n",
    "    print(\">50\")\n",
    "elif a ==50:\n",
    "    print(\"=50\")\n",
    "else:\n",
    "    print(\"<50\")"
   ]
  },
  {
   "cell_type": "code",
   "execution_count": null,
   "id": "6e6a902b",
   "metadata": {},
   "outputs": [],
   "source": []
  }
 ],
 "metadata": {
  "kernelspec": {
   "display_name": "Python 3 (ipykernel)",
   "language": "python",
   "name": "python3"
  },
  "language_info": {
   "codemirror_mode": {
    "name": "ipython",
    "version": 3
   },
   "file_extension": ".py",
   "mimetype": "text/x-python",
   "name": "python",
   "nbconvert_exporter": "python",
   "pygments_lexer": "ipython3",
   "version": "3.10.9"
  }
 },
 "nbformat": 4,
 "nbformat_minor": 5
}
